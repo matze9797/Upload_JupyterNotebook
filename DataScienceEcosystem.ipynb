{
 "cells": [
  {
   "cell_type": "markdown",
   "id": "9ff64cd9-63d6-4674-b6d5-cfaa9f7359c5",
   "metadata": {},
   "source": [
    "# Data Science Tools and Ecosystem"
   ]
  },
  {
   "cell_type": "markdown",
   "id": "78e4b830-89dd-4963-838f-bf22d79d040d",
   "metadata": {},
   "source": [
    "## Author\n",
    "Mathias Wewel\n"
   ]
  },
  {
   "cell_type": "markdown",
   "id": "969aeab7-8d08-4ddb-a70f-c1456116dfc7",
   "metadata": {},
   "source": [
    "In this notebook, Data Science Tools and Ecosystem are summarized."
   ]
  },
  {
   "cell_type": "markdown",
   "id": "abac0bb2-07b5-45f6-8839-05650512964f",
   "metadata": {},
   "source": [
    "**Objectives:** \n",
    "+ List popular languages for Data Science\n",
    "+ List popular open source tools for data science\n",
    "+ Discover Github\n",
    "+ Discover Markdown\n",
    "+ Discover Jupyter Notebook"
   ]
  },
  {
   "cell_type": "markdown",
   "id": "61be54c8-a72d-4d19-ba8d-23da064d2f2e",
   "metadata": {},
   "source": [
    "Some of the popular languages that Data Scientists use are:\n",
    "1. Python \n",
    "2. Java\n",
    "3. R"
   ]
  },
  {
   "cell_type": "markdown",
   "id": "d117abef-9b36-47e5-9f41-b7a78e55758a",
   "metadata": {},
   "source": [
    "Some of the commonly used libraries used by Data Scientists include:\n",
    "1. Pandas\n",
    "2. TensorFlow\n",
    "3. NumPy\n"
   ]
  },
  {
   "cell_type": "markdown",
   "id": "fe6b7479-e488-4f3a-80d4-b568f3f50ed8",
   "metadata": {},
   "source": [
    "|Data Science Tools  |\n",
    "|:---------------------|\n",
    "|1. Apache Spark       | \n",
    "|2. Jupyter Notebook   |\n",
    "|3. R Studio           |"
   ]
  },
  {
   "cell_type": "markdown",
   "id": "ed186c83-8f4b-4fa8-b43f-dd9dfad6df53",
   "metadata": {},
   "source": [
    "### Below are a few examples of evaluating arithmetic expressions in Python"
   ]
  },
  {
   "cell_type": "code",
   "execution_count": 10,
   "id": "7c16f6b9-1f8f-40b6-913b-1d45cfe3d5ba",
   "metadata": {},
   "outputs": [
    {
     "data": {
      "text/plain": [
       "17"
      ]
     },
     "execution_count": 10,
     "metadata": {},
     "output_type": "execute_result"
    }
   ],
   "source": [
    "#This a simple arithmetic expression to mutiply then add integers\n",
    "(3*4)+5"
   ]
  },
  {
   "cell_type": "code",
   "execution_count": 12,
   "id": "b2101f37-6cf1-45e4-983d-c7fbe059efda",
   "metadata": {},
   "outputs": [
    {
     "data": {
      "text/plain": [
       "3.3333333333333335"
      ]
     },
     "execution_count": 12,
     "metadata": {},
     "output_type": "execute_result"
    }
   ],
   "source": [
    "#This will convert 200 minutes to hours by diving by 60\n",
    "200/60\n"
   ]
  },
  {
   "cell_type": "code",
   "execution_count": null,
   "id": "135e6a4a-0391-42ae-a157-0bf7437a6af0",
   "metadata": {},
   "outputs": [],
   "source": []
  }
 ],
 "metadata": {
  "kernelspec": {
   "display_name": "Python 3 (ipykernel)",
   "language": "python",
   "name": "python3"
  },
  "language_info": {
   "codemirror_mode": {
    "name": "ipython",
    "version": 3
   },
   "file_extension": ".py",
   "mimetype": "text/x-python",
   "name": "python",
   "nbconvert_exporter": "python",
   "pygments_lexer": "ipython3",
   "version": "3.12.8"
  }
 },
 "nbformat": 4,
 "nbformat_minor": 5
}
